{
 "cells": [
  {
   "cell_type": "markdown",
   "id": "9a1c218d",
   "metadata": {},
   "source": [
    "TEK ORNEKLEM T TESTI:"
   ]
  },
  {
   "cell_type": "code",
   "execution_count": 2,
   "id": "131b5abc",
   "metadata": {},
   "outputs": [
    {
     "name": "stdout",
     "output_type": "stream",
     "text": [
      "2.746194120979329 0.01901964255331357\n",
      "H0 redd edilir\n"
     ]
    }
   ],
   "source": [
    "from scipy import stats\n",
    "veri=[28,29,35,37,32,26,37,39,22,29,36,38]\n",
    "alfa=0.05\n",
    "thesap,p=stats.ttest_1samp(veri,popmean=28,alternative=\"two-sided\")\n",
    "print(thesap,p)\n",
    "\n",
    "if p<alfa:\n",
    "    print(\"H0 redd edilir\")\n",
    "else:\n",
    "    print(\"H0 redd edilemez\")"
   ]
  },
  {
   "cell_type": "markdown",
   "id": "d809ae3b",
   "metadata": {},
   "source": [
    "BAGIMSIZ IKI ORNEKLEM T TESTI:"
   ]
  },
  {
   "cell_type": "code",
   "execution_count": null,
   "id": "7b16f481",
   "metadata": {},
   "outputs": [
    {
     "name": "stdout",
     "output_type": "stream",
     "text": [
      "-2.5433770044333364 0.029091343762326645\n",
      "H0 redd edilir\n"
     ]
    }
   ],
   "source": [
    "# #ORNEK 1: WELCH-T\n",
    "veri1=[280,287,280,275,279,278,289,284,288]\n",
    "veri2=[281,374,270,273,476,273,481,282,284,500,540]\n",
    "alfa=0.05\n",
    "\n",
    "# homojenlik=stats.bartlett(veri1,veri2)\n",
    "# print(homojenlik) -> homojenlik varsayimi odenmedi\n",
    "# normallik=stats.shapiro(veri2)  \n",
    "# print(f\"{normallik.pvalue:5f}\") -> normallik varsayimi odendi\n",
    "thesap,p=stats.ttest_ind(veri1,veri2,alternative=\"two-sided\",equal_var=False)\n",
    "print(thesap,p)\n",
    "if p<alfa:\n",
    "    print(\"H0 redd edilir\")\n",
    "else:\n",
    "    print(\"H0 redd edilemez\")"
   ]
  },
  {
   "cell_type": "code",
   "execution_count": null,
   "id": "ddda7d32",
   "metadata": {},
   "outputs": [
    {
     "data": {
      "text/html": [
       "<div>\n",
       "<style scoped>\n",
       "    .dataframe tbody tr th:only-of-type {\n",
       "        vertical-align: middle;\n",
       "    }\n",
       "\n",
       "    .dataframe tbody tr th {\n",
       "        vertical-align: top;\n",
       "    }\n",
       "\n",
       "    .dataframe thead th {\n",
       "        text-align: right;\n",
       "    }\n",
       "</style>\n",
       "<table border=\"1\" class=\"dataframe\">\n",
       "  <thead>\n",
       "    <tr style=\"text-align: right;\">\n",
       "      <th></th>\n",
       "      <th>Gender</th>\n",
       "      <th>Expenses</th>\n",
       "    </tr>\n",
       "  </thead>\n",
       "  <tbody>\n",
       "    <tr>\n",
       "      <th>0</th>\n",
       "      <td>man</td>\n",
       "      <td>3234</td>\n",
       "    </tr>\n",
       "    <tr>\n",
       "      <th>1</th>\n",
       "      <td>woman</td>\n",
       "      <td>3456</td>\n",
       "    </tr>\n",
       "    <tr>\n",
       "      <th>2</th>\n",
       "      <td>man</td>\n",
       "      <td>3689</td>\n",
       "    </tr>\n",
       "    <tr>\n",
       "      <th>3</th>\n",
       "      <td>woman</td>\n",
       "      <td>2845</td>\n",
       "    </tr>\n",
       "    <tr>\n",
       "      <th>4</th>\n",
       "      <td>woman</td>\n",
       "      <td>3456</td>\n",
       "    </tr>\n",
       "    <tr>\n",
       "      <th>5</th>\n",
       "      <td>man</td>\n",
       "      <td>3456</td>\n",
       "    </tr>\n",
       "    <tr>\n",
       "      <th>6</th>\n",
       "      <td>woman</td>\n",
       "      <td>3234</td>\n",
       "    </tr>\n",
       "    <tr>\n",
       "      <th>7</th>\n",
       "      <td>man</td>\n",
       "      <td>2345</td>\n",
       "    </tr>\n",
       "    <tr>\n",
       "      <th>8</th>\n",
       "      <td>man</td>\n",
       "      <td>3457</td>\n",
       "    </tr>\n",
       "    <tr>\n",
       "      <th>9</th>\n",
       "      <td>woman</td>\n",
       "      <td>2856</td>\n",
       "    </tr>\n",
       "    <tr>\n",
       "      <th>10</th>\n",
       "      <td>man</td>\n",
       "      <td>3245</td>\n",
       "    </tr>\n",
       "  </tbody>\n",
       "</table>\n",
       "</div>"
      ],
      "text/plain": [
       "   Gender  Expenses\n",
       "0     man      3234\n",
       "1   woman      3456\n",
       "2     man      3689\n",
       "3   woman      2845\n",
       "4   woman      3456\n",
       "5     man      3456\n",
       "6   woman      3234\n",
       "7     man      2345\n",
       "8     man      3457\n",
       "9   woman      2856\n",
       "10    man      3245"
      ]
     },
     "execution_count": 1,
     "metadata": {},
     "output_type": "execute_result"
    }
   ],
   "source": [
    "#ORNEK 2: INDEPENDENT T\n",
    "from scipy import stats\n",
    "import pandas as pd\n",
    "data={\"Gender\":[\"man\",\"woman\",\"man\",\"woman\",\"woman\",\"man\",\"woman\",\"man\",\"man\",\"woman\",\"man\"],\"Expenses\":[3234,3456,3689,2845,3456,3456,3234,2345,3457,2856,3245]}\n",
    "dataset=pd.DataFrame(data)\n",
    "dataset"
   ]
  },
  {
   "cell_type": "code",
   "execution_count": 3,
   "id": "1f2c183c",
   "metadata": {},
   "outputs": [],
   "source": [
    "man=dataset[dataset[\"Gender\"]==\"man\"]\n",
    "woman=dataset[dataset[\"Gender\"]==\"woman\"]"
   ]
  },
  {
   "cell_type": "code",
   "execution_count": 7,
   "id": "be1cc1dd",
   "metadata": {},
   "outputs": [
    {
     "name": "stdout",
     "output_type": "stream",
     "text": [
      "0.2791167319245199 0.7864630341469034\n"
     ]
    }
   ],
   "source": [
    "istatistik,p=stats.ttest_ind(man[\"Expenses\"],woman[\"Expenses\"],alternative=\"two-sided\")\n",
    "print(istatistik,p)"
   ]
  },
  {
   "cell_type": "code",
   "execution_count": 8,
   "id": "811e1c21",
   "metadata": {},
   "outputs": [
    {
     "name": "stdout",
     "output_type": "stream",
     "text": [
      "3237.6666666666665\n",
      "3169.4\n"
     ]
    }
   ],
   "source": [
    "print(man[\"Expenses\"].mean())\n",
    "print(woman[\"Expenses\"].mean())"
   ]
  },
  {
   "cell_type": "markdown",
   "id": "3d62665f",
   "metadata": {},
   "source": [
    "VARYANS HOMOJENLIYI ODENMESEYDI -> WELCH-T TESTI:"
   ]
  },
  {
   "cell_type": "code",
   "execution_count": null,
   "id": "62f13869",
   "metadata": {},
   "outputs": [
    {
     "name": "stdout",
     "output_type": "stream",
     "text": [
      "0.29071498829693865 0.7781579681869055\n"
     ]
    }
   ],
   "source": [
    "istatistik,p=stats.ttest_ind(man[\"Expenses\"],woman[\"Expenses\"],alternative=\"two-sided\",equal_var=False)\n",
    "print(istatistik,p)"
   ]
  },
  {
   "cell_type": "markdown",
   "id": "67fcc039",
   "metadata": {},
   "source": [
    "BAGIMLI IKI ORNEKLEM T TESTI:"
   ]
  },
  {
   "cell_type": "code",
   "execution_count": 1,
   "id": "63eeaa7a",
   "metadata": {},
   "outputs": [
    {
     "data": {
      "text/html": [
       "<div>\n",
       "<style scoped>\n",
       "    .dataframe tbody tr th:only-of-type {\n",
       "        vertical-align: middle;\n",
       "    }\n",
       "\n",
       "    .dataframe tbody tr th {\n",
       "        vertical-align: top;\n",
       "    }\n",
       "\n",
       "    .dataframe thead th {\n",
       "        text-align: right;\n",
       "    }\n",
       "</style>\n",
       "<table border=\"1\" class=\"dataframe\">\n",
       "  <thead>\n",
       "    <tr style=\"text-align: right;\">\n",
       "      <th></th>\n",
       "      <th>ID'ler</th>\n",
       "      <th>once</th>\n",
       "      <th>sonra</th>\n",
       "    </tr>\n",
       "  </thead>\n",
       "  <tbody>\n",
       "    <tr>\n",
       "      <th>0</th>\n",
       "      <td>1</td>\n",
       "      <td>280</td>\n",
       "      <td>281</td>\n",
       "    </tr>\n",
       "    <tr>\n",
       "      <th>1</th>\n",
       "      <td>2</td>\n",
       "      <td>287</td>\n",
       "      <td>274</td>\n",
       "    </tr>\n",
       "    <tr>\n",
       "      <th>2</th>\n",
       "      <td>3</td>\n",
       "      <td>280</td>\n",
       "      <td>270</td>\n",
       "    </tr>\n",
       "    <tr>\n",
       "      <th>3</th>\n",
       "      <td>4</td>\n",
       "      <td>275</td>\n",
       "      <td>273</td>\n",
       "    </tr>\n",
       "    <tr>\n",
       "      <th>4</th>\n",
       "      <td>5</td>\n",
       "      <td>279</td>\n",
       "      <td>276</td>\n",
       "    </tr>\n",
       "    <tr>\n",
       "      <th>5</th>\n",
       "      <td>6</td>\n",
       "      <td>278</td>\n",
       "      <td>273</td>\n",
       "    </tr>\n",
       "    <tr>\n",
       "      <th>6</th>\n",
       "      <td>7</td>\n",
       "      <td>289</td>\n",
       "      <td>281</td>\n",
       "    </tr>\n",
       "    <tr>\n",
       "      <th>7</th>\n",
       "      <td>8</td>\n",
       "      <td>284</td>\n",
       "      <td>282</td>\n",
       "    </tr>\n",
       "    <tr>\n",
       "      <th>8</th>\n",
       "      <td>9</td>\n",
       "      <td>288</td>\n",
       "      <td>284</td>\n",
       "    </tr>\n",
       "  </tbody>\n",
       "</table>\n",
       "</div>"
      ],
      "text/plain": [
       "   ID'ler  once  sonra\n",
       "0       1   280    281\n",
       "1       2   287    274\n",
       "2       3   280    270\n",
       "3       4   275    273\n",
       "4       5   279    276\n",
       "5       6   278    273\n",
       "6       7   289    281\n",
       "7       8   284    282\n",
       "8       9   288    284"
      ]
     },
     "execution_count": 1,
     "metadata": {},
     "output_type": "execute_result"
    }
   ],
   "source": [
    "from scipy import stats\n",
    "import pandas as pd\n",
    "dictionary={\"ID'ler\":[1,2,3,4,5,6,7,8,9],\"once\":[280,287,280,275,279,278,289,284,288],\"sonra\":[281,274,270,273,276,273,281,282,284]}\n",
    "df=pd.DataFrame(dictionary)\n",
    "df"
   ]
  },
  {
   "cell_type": "code",
   "execution_count": 11,
   "id": "4b36de43",
   "metadata": {},
   "outputs": [
    {
     "data": {
      "text/plain": [
       "[-1, 13, 10, 2, 3, 5, 8, 2, 4]"
      ]
     },
     "execution_count": 11,
     "metadata": {},
     "output_type": "execute_result"
    }
   ],
   "source": [
    "farklar=(df[\"once\"]-df[\"sonra\"]).tolist()\n",
    "farklar"
   ]
  },
  {
   "cell_type": "code",
   "execution_count": 12,
   "id": "d9fd321e",
   "metadata": {},
   "outputs": [
    {
     "data": {
      "text/plain": [
       "ShapiroResult(statistic=np.float64(0.9509929149413004), pvalue=np.float64(0.7009685486095413))"
      ]
     },
     "execution_count": 12,
     "metadata": {},
     "output_type": "execute_result"
    }
   ],
   "source": [
    "normallik=stats.shapiro(farklar)\n",
    "normallik"
   ]
  },
  {
   "cell_type": "code",
   "execution_count": null,
   "id": "07a97ed8",
   "metadata": {},
   "outputs": [
    {
     "name": "stdout",
     "output_type": "stream",
     "text": [
      "Test istatistigi:3.46247\n",
      "p-value:0.0085\n"
     ]
    }
   ],
   "source": [
    "t,p=stats.ttest_rel(df[\"once\"],df[\"sonra\"])\n",
    "print(\"Test istatistigi:%.5f\\np-value:%.4f\" %(t,p))"
   ]
  }
 ],
 "metadata": {
  "kernelspec": {
   "display_name": "3.10.12",
   "language": "python",
   "name": "python3"
  },
  "language_info": {
   "codemirror_mode": {
    "name": "ipython",
    "version": 3
   },
   "file_extension": ".py",
   "mimetype": "text/x-python",
   "name": "python",
   "nbconvert_exporter": "python",
   "pygments_lexer": "ipython3",
   "version": "3.10.12"
  }
 },
 "nbformat": 4,
 "nbformat_minor": 5
}
