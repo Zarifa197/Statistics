{
 "cells": [
  {
   "cell_type": "markdown",
   "id": "03215992",
   "metadata": {},
   "source": [
    "TEK ORNEKLEM Z TESTI:"
   ]
  },
  {
   "cell_type": "code",
   "execution_count": 3,
   "id": "b7cfdf63",
   "metadata": {},
   "outputs": [
    {
     "name": "stdout",
     "output_type": "stream",
     "text": [
      "0.6339555069870142 0.26305492964421917\n",
      "H0 redd edilemez\n"
     ]
    }
   ],
   "source": [
    "from statsmodels.stats.weightstats import ztest\n",
    "\n",
    "veri=[70,95,120,65,130,38,110,90,60]\n",
    "alfa=0.05\n",
    "\n",
    "zhesap,p=ztest(veri,value=80,alternative=\"larger\")  #ztest tuple donderir\n",
    "print(zhesap,p)\n",
    "\n",
    "if p<alfa:\n",
    "    print(\"H0 redd edilir\")\n",
    "else:\n",
    "    print(\"H0 redd edilemez\")"
   ]
  },
  {
   "cell_type": "markdown",
   "id": "ab3300eb",
   "metadata": {},
   "source": [
    "A/B TESTI(IKI ORNEKLEM Z TESTI):"
   ]
  },
  {
   "cell_type": "code",
   "execution_count": null,
   "id": "283b71a2",
   "metadata": {},
   "outputs": [
    {
     "name": "stdout",
     "output_type": "stream",
     "text": [
      "1.4002800840280094 0.08071473118354161\n"
     ]
    }
   ],
   "source": [
    "#ORNEK 1\n",
    "from statsmodels.stats.proportion import proportions_ztest\n",
    "import numpy as np\n",
    "\n",
    "basari=np.array([45,40])\n",
    "gozlem=np.array([50,50])\n",
    "z,p=proportions_ztest(basari,gozlem,alternative=\"larger\")\n",
    "print(z,p)"
   ]
  },
  {
   "cell_type": "code",
   "execution_count": 95,
   "id": "1daa51e7",
   "metadata": {},
   "outputs": [
    {
     "data": {
      "text/html": [
       "<div>\n",
       "<style scoped>\n",
       "    .dataframe tbody tr th:only-of-type {\n",
       "        vertical-align: middle;\n",
       "    }\n",
       "\n",
       "    .dataframe tbody tr th {\n",
       "        vertical-align: top;\n",
       "    }\n",
       "\n",
       "    .dataframe thead th {\n",
       "        text-align: right;\n",
       "    }\n",
       "</style>\n",
       "<table border=\"1\" class=\"dataframe\">\n",
       "  <thead>\n",
       "    <tr style=\"text-align: right;\">\n",
       "      <th>col_0</th>\n",
       "      <th>0</th>\n",
       "      <th>1</th>\n",
       "    </tr>\n",
       "    <tr>\n",
       "      <th>row_0</th>\n",
       "      <th></th>\n",
       "      <th></th>\n",
       "    </tr>\n",
       "  </thead>\n",
       "  <tbody>\n",
       "    <tr>\n",
       "      <th>Eski Tasarim</th>\n",
       "      <td>22</td>\n",
       "      <td>14</td>\n",
       "    </tr>\n",
       "    <tr>\n",
       "      <th>Yeni Tasarim</th>\n",
       "      <td>10</td>\n",
       "      <td>34</td>\n",
       "    </tr>\n",
       "  </tbody>\n",
       "</table>\n",
       "</div>"
      ],
      "text/plain": [
       "col_0          0   1\n",
       "row_0               \n",
       "Eski Tasarim  22  14\n",
       "Yeni Tasarim  10  34"
      ]
     },
     "execution_count": 95,
     "metadata": {},
     "output_type": "execute_result"
    }
   ],
   "source": [
    "import pandas as pd\n",
    "veri={\"Sayfa\":[\"Yeni Tasarim\",\"Yeni Tasarim\",\"Yeni Tasarim\",\"Yeni Tasarim\",\"Yeni Tasarim\",\"Yeni Tasarim\",\"Yeni Tasarim\",\"Yeni Tasarim\",\"Eski Tasarim\",\"Yeni Tasarim\",\"Yeni Tasarim\",\"Eski Tasarim\",\"Yeni Tasarim\",\"Eski Tasarim\",\"Eski Tasarim\",\"Eski Tasarim\",\"Yeni Tasarim\",\"Yeni Tasarim\",\"Eski Tasarim\",\"Yeni Tasarim\",\"Yeni Tasarim\",\"Eski Tasarim\",\"Yeni Tasarim\",\"Eski Tasarim\",\"Eski Tasarim\",\"Eski Tasarim\",\"Yeni Tasarim\",\"Yeni Tasarim\",\"Eski Tasarim\",\"Yeni Tasarim\",\"Yeni Tasarim\",\"Eski Tasarim\",\"Yeni Tasarim\",\"Eski Tasarim\",\"Eski Tasarim\",\"Eski Tasarim\",\"Yeni Tasarim\",\"Yeni Tasarim\",\"Eski Tasarim\",\"Yeni Tasarim\",\"Yeni Tasarim\",\"Eski Tasarim\",\"Yeni Tasarim\",\"Eski Tasarim\",\"Eski Tasarim\",\"Eski Tasarim\",\"Yeni Tasarim\",\"Yeni Tasarim\",\"Eski Tasarim\",\"Yeni Tasarim\",\"Yeni Tasarim\",\"Eski Tasarim\",\"Yeni Tasarim\",\"Eski Tasarim\",\"Eski Tasarim\",\"Eski Tasarim\",\"Yeni Tasarim\",\"Yeni Tasarim\",\"Eski Tasarim\",\"Yeni Tasarim\",\"Yeni Tasarim\",\"Eski Tasarim\",\"Yeni Tasarim\",\"Eski Tasarim\",\"Eski Tasarim\",\"Eski Tasarim\",\"Yeni Tasarim\",\"Yeni Tasarim\",\"Eski Tasarim\",\"Yeni Tasarim\",\"Yeni Tasarim\",\"Eski Tasarim\",\"Yeni Tasarim\",\"Eski Tasarim\",\"Eski Tasarim\",\"Eski Tasarim\",\"Yeni Tasarim\",\"Yeni Tasarim\",\"Eski Tasarim\",\"Yeni Tasarim\"],\"Satis\":[0,1,1,0,1,0,1,1,0,1,0,1,1,0,1,0,1,1,0,1,0,1,1,0,1,0,1,1,0,1,0,1,1,0,1,0,1,1,0,1,0,1,1,0,1,0,1,1,0,1,0,1,1,0,1,0,1,1,0,1,0,1,1,0,1,0,1,1,0,1,0,1,1,0,1,0,1,1,0,1]}\n",
    "df=pd.DataFrame(veri)\n",
    "tablo=pd.crosstab(veri[\"Sayfa\"],veri[\"Satis\"])\n",
    "tablo"
   ]
  },
  {
   "cell_type": "code",
   "execution_count": 96,
   "id": "1fbbded5",
   "metadata": {},
   "outputs": [
    {
     "data": {
      "text/html": [
       "<div>\n",
       "<style scoped>\n",
       "    .dataframe tbody tr th:only-of-type {\n",
       "        vertical-align: middle;\n",
       "    }\n",
       "\n",
       "    .dataframe tbody tr th {\n",
       "        vertical-align: top;\n",
       "    }\n",
       "\n",
       "    .dataframe thead th {\n",
       "        text-align: right;\n",
       "    }\n",
       "</style>\n",
       "<table border=\"1\" class=\"dataframe\">\n",
       "  <thead>\n",
       "    <tr style=\"text-align: right;\">\n",
       "      <th></th>\n",
       "      <th>Sayfa</th>\n",
       "      <th>Satis</th>\n",
       "    </tr>\n",
       "  </thead>\n",
       "  <tbody>\n",
       "    <tr>\n",
       "      <th>0</th>\n",
       "      <td>Yeni Tasarim</td>\n",
       "      <td>0</td>\n",
       "    </tr>\n",
       "    <tr>\n",
       "      <th>1</th>\n",
       "      <td>Yeni Tasarim</td>\n",
       "      <td>1</td>\n",
       "    </tr>\n",
       "    <tr>\n",
       "      <th>2</th>\n",
       "      <td>Yeni Tasarim</td>\n",
       "      <td>1</td>\n",
       "    </tr>\n",
       "    <tr>\n",
       "      <th>3</th>\n",
       "      <td>Yeni Tasarim</td>\n",
       "      <td>0</td>\n",
       "    </tr>\n",
       "    <tr>\n",
       "      <th>4</th>\n",
       "      <td>Yeni Tasarim</td>\n",
       "      <td>1</td>\n",
       "    </tr>\n",
       "    <tr>\n",
       "      <th>5</th>\n",
       "      <td>Yeni Tasarim</td>\n",
       "      <td>0</td>\n",
       "    </tr>\n",
       "    <tr>\n",
       "      <th>6</th>\n",
       "      <td>Yeni Tasarim</td>\n",
       "      <td>1</td>\n",
       "    </tr>\n",
       "    <tr>\n",
       "      <th>7</th>\n",
       "      <td>Yeni Tasarim</td>\n",
       "      <td>1</td>\n",
       "    </tr>\n",
       "    <tr>\n",
       "      <th>8</th>\n",
       "      <td>Eski Tasarim</td>\n",
       "      <td>0</td>\n",
       "    </tr>\n",
       "    <tr>\n",
       "      <th>9</th>\n",
       "      <td>Yeni Tasarim</td>\n",
       "      <td>1</td>\n",
       "    </tr>\n",
       "  </tbody>\n",
       "</table>\n",
       "</div>"
      ],
      "text/plain": [
       "          Sayfa  Satis\n",
       "0  Yeni Tasarim      0\n",
       "1  Yeni Tasarim      1\n",
       "2  Yeni Tasarim      1\n",
       "3  Yeni Tasarim      0\n",
       "4  Yeni Tasarim      1\n",
       "5  Yeni Tasarim      0\n",
       "6  Yeni Tasarim      1\n",
       "7  Yeni Tasarim      1\n",
       "8  Eski Tasarim      0\n",
       "9  Yeni Tasarim      1"
      ]
     },
     "execution_count": 96,
     "metadata": {},
     "output_type": "execute_result"
    }
   ],
   "source": [
    "df.head(n=10)"
   ]
  },
  {
   "cell_type": "code",
   "execution_count": 101,
   "id": "bca0ee77",
   "metadata": {},
   "outputs": [
    {
     "data": {
      "text/html": [
       "<div>\n",
       "<style scoped>\n",
       "    .dataframe tbody tr th:only-of-type {\n",
       "        vertical-align: middle;\n",
       "    }\n",
       "\n",
       "    .dataframe tbody tr th {\n",
       "        vertical-align: top;\n",
       "    }\n",
       "\n",
       "    .dataframe thead th {\n",
       "        text-align: right;\n",
       "    }\n",
       "</style>\n",
       "<table border=\"1\" class=\"dataframe\">\n",
       "  <thead>\n",
       "    <tr style=\"text-align: right;\">\n",
       "      <th></th>\n",
       "      <th>Sayfa</th>\n",
       "      <th>Satis</th>\n",
       "    </tr>\n",
       "  </thead>\n",
       "  <tbody>\n",
       "    <tr>\n",
       "      <th>0</th>\n",
       "      <td>Eski Tasarim</td>\n",
       "      <td>0</td>\n",
       "    </tr>\n",
       "    <tr>\n",
       "      <th>1</th>\n",
       "      <td>Eski Tasarim</td>\n",
       "      <td>1</td>\n",
       "    </tr>\n",
       "    <tr>\n",
       "      <th>2</th>\n",
       "      <td>Eski Tasarim</td>\n",
       "      <td>1</td>\n",
       "    </tr>\n",
       "    <tr>\n",
       "      <th>3</th>\n",
       "      <td>Eski Tasarim</td>\n",
       "      <td>0</td>\n",
       "    </tr>\n",
       "    <tr>\n",
       "      <th>4</th>\n",
       "      <td>Eski Tasarim</td>\n",
       "      <td>1</td>\n",
       "    </tr>\n",
       "    <tr>\n",
       "      <th>5</th>\n",
       "      <td>Eski Tasarim</td>\n",
       "      <td>1</td>\n",
       "    </tr>\n",
       "    <tr>\n",
       "      <th>6</th>\n",
       "      <td>Eski Tasarim</td>\n",
       "      <td>1</td>\n",
       "    </tr>\n",
       "    <tr>\n",
       "      <th>7</th>\n",
       "      <td>Eski Tasarim</td>\n",
       "      <td>0</td>\n",
       "    </tr>\n",
       "    <tr>\n",
       "      <th>8</th>\n",
       "      <td>Eski Tasarim</td>\n",
       "      <td>1</td>\n",
       "    </tr>\n",
       "    <tr>\n",
       "      <th>9</th>\n",
       "      <td>Eski Tasarim</td>\n",
       "      <td>0</td>\n",
       "    </tr>\n",
       "  </tbody>\n",
       "</table>\n",
       "</div>"
      ],
      "text/plain": [
       "          Sayfa  Satis\n",
       "0  Eski Tasarim      0\n",
       "1  Eski Tasarim      1\n",
       "2  Eski Tasarim      1\n",
       "3  Eski Tasarim      0\n",
       "4  Eski Tasarim      1\n",
       "5  Eski Tasarim      1\n",
       "6  Eski Tasarim      1\n",
       "7  Eski Tasarim      0\n",
       "8  Eski Tasarim      1\n",
       "9  Eski Tasarim      0"
      ]
     },
     "execution_count": 101,
     "metadata": {},
     "output_type": "execute_result"
    }
   ],
   "source": [
    "Kontrol=df[df[\"Sayfa\"]==\"Eski Tasarim\"].sample(n=32,random_state=42)\n",
    "Deneysel=df[df[\"Sayfa\"]==\"Yeni Tasarim\"].sample(n=32,random_state=42)\n",
    "yeni_df=pd.concat([Kontrol,Deneysel],axis=0)\n",
    "yeni_df.reset_index(drop=True,inplace=True)\n",
    "yeni_df.head(n=10)"
   ]
  },
  {
   "cell_type": "code",
   "execution_count": 102,
   "id": "b063c062",
   "metadata": {},
   "outputs": [],
   "source": [
    "satis_eski=yeni_df[yeni_df[\"Sayfa\"]==\"Eski Tasarim\"][\"Satis\"]\n",
    "satis_yeni=yeni_df[yeni_df[\"Sayfa\"]==\"Yeni Tasarim\"][\"Satis\"]"
   ]
  },
  {
   "cell_type": "code",
   "execution_count": 103,
   "id": "ea03a718",
   "metadata": {},
   "outputs": [
    {
     "name": "stdout",
     "output_type": "stream",
     "text": [
      "-2.519763153394848 0.011743382301172575\n"
     ]
    }
   ],
   "source": [
    "basari=[satis_eski.sum(),satis_yeni.sum()]\n",
    "gozlem=[satis_eski.count(),satis_yeni.count()]\n",
    "\n",
    "test,p=proportions_ztest(basari,gozlem)\n",
    "print(test,p)"
   ]
  }
 ],
 "metadata": {
  "kernelspec": {
   "display_name": "3.10.12",
   "language": "python",
   "name": "python3"
  },
  "language_info": {
   "codemirror_mode": {
    "name": "ipython",
    "version": 3
   },
   "file_extension": ".py",
   "mimetype": "text/x-python",
   "name": "python",
   "nbconvert_exporter": "python",
   "pygments_lexer": "ipython3",
   "version": "3.10.12"
  }
 },
 "nbformat": 4,
 "nbformat_minor": 5
}
