{
 "cells": [
  {
   "cell_type": "code",
   "execution_count": 2,
   "id": "371ffc10",
   "metadata": {},
   "outputs": [
    {
     "data": {
      "text/html": [
       "<div>\n",
       "<style scoped>\n",
       "    .dataframe tbody tr th:only-of-type {\n",
       "        vertical-align: middle;\n",
       "    }\n",
       "\n",
       "    .dataframe tbody tr th {\n",
       "        vertical-align: top;\n",
       "    }\n",
       "\n",
       "    .dataframe thead th {\n",
       "        text-align: right;\n",
       "    }\n",
       "</style>\n",
       "<table border=\"1\" class=\"dataframe\">\n",
       "  <thead>\n",
       "    <tr style=\"text-align: right;\">\n",
       "      <th></th>\n",
       "      <th>q1</th>\n",
       "      <th>q2</th>\n",
       "      <th>q3</th>\n",
       "      <th>q4</th>\n",
       "      <th>q5</th>\n",
       "    </tr>\n",
       "  </thead>\n",
       "  <tbody>\n",
       "    <tr>\n",
       "      <th>0</th>\n",
       "      <td>4</td>\n",
       "      <td>5</td>\n",
       "      <td>4</td>\n",
       "      <td>4</td>\n",
       "      <td>5</td>\n",
       "    </tr>\n",
       "    <tr>\n",
       "      <th>1</th>\n",
       "      <td>3</td>\n",
       "      <td>4</td>\n",
       "      <td>4</td>\n",
       "      <td>3</td>\n",
       "      <td>4</td>\n",
       "    </tr>\n",
       "    <tr>\n",
       "      <th>2</th>\n",
       "      <td>2</td>\n",
       "      <td>3</td>\n",
       "      <td>3</td>\n",
       "      <td>2</td>\n",
       "      <td>3</td>\n",
       "    </tr>\n",
       "    <tr>\n",
       "      <th>3</th>\n",
       "      <td>5</td>\n",
       "      <td>5</td>\n",
       "      <td>4</td>\n",
       "      <td>5</td>\n",
       "      <td>5</td>\n",
       "    </tr>\n",
       "    <tr>\n",
       "      <th>4</th>\n",
       "      <td>4</td>\n",
       "      <td>4</td>\n",
       "      <td>3</td>\n",
       "      <td>4</td>\n",
       "      <td>4</td>\n",
       "    </tr>\n",
       "    <tr>\n",
       "      <th>5</th>\n",
       "      <td>1</td>\n",
       "      <td>2</td>\n",
       "      <td>3</td>\n",
       "      <td>2</td>\n",
       "      <td>2</td>\n",
       "    </tr>\n",
       "    <tr>\n",
       "      <th>6</th>\n",
       "      <td>3</td>\n",
       "      <td>3</td>\n",
       "      <td>4</td>\n",
       "      <td>3</td>\n",
       "      <td>3</td>\n",
       "    </tr>\n",
       "    <tr>\n",
       "      <th>7</th>\n",
       "      <td>5</td>\n",
       "      <td>5</td>\n",
       "      <td>5</td>\n",
       "      <td>4</td>\n",
       "      <td>5</td>\n",
       "    </tr>\n",
       "    <tr>\n",
       "      <th>8</th>\n",
       "      <td>4</td>\n",
       "      <td>3</td>\n",
       "      <td>3</td>\n",
       "      <td>3</td>\n",
       "      <td>4</td>\n",
       "    </tr>\n",
       "    <tr>\n",
       "      <th>9</th>\n",
       "      <td>2</td>\n",
       "      <td>2</td>\n",
       "      <td>2</td>\n",
       "      <td>1</td>\n",
       "      <td>2</td>\n",
       "    </tr>\n",
       "  </tbody>\n",
       "</table>\n",
       "</div>"
      ],
      "text/plain": [
       "   q1  q2  q3  q4  q5\n",
       "0   4   5   4   4   5\n",
       "1   3   4   4   3   4\n",
       "2   2   3   3   2   3\n",
       "3   5   5   4   5   5\n",
       "4   4   4   3   4   4\n",
       "5   1   2   3   2   2\n",
       "6   3   3   4   3   3\n",
       "7   5   5   5   4   5\n",
       "8   4   3   3   3   4\n",
       "9   2   2   2   1   2"
      ]
     },
     "execution_count": 2,
     "metadata": {},
     "output_type": "execute_result"
    }
   ],
   "source": [
    "import pandas as pd\n",
    "\n",
    "# 10 katılımcı, 5 soru (Likert tipi: 1–5 arası)\n",
    "data = {\n",
    "    \"q1\": [4, 3, 2, 5, 4, 1, 3, 5, 4, 2],\n",
    "    \"q2\": [5, 4, 3, 5, 4, 2, 3, 5, 3, 2],\n",
    "    \"q3\": [4, 4, 3, 4, 3, 3, 4, 5, 3, 2],\n",
    "    \"q4\": [4, 3, 2, 5, 4, 2, 3, 4, 3, 1],\n",
    "    \"q5\": [5, 4, 3, 5, 4, 2, 3, 5, 4, 2]\n",
    "}\n",
    "\n",
    "df = pd.DataFrame(data)\n",
    "df"
   ]
  },
  {
   "cell_type": "code",
   "execution_count": 3,
   "id": "99aa5f57",
   "metadata": {},
   "outputs": [
    {
     "name": "stdout",
     "output_type": "stream",
     "text": [
      "0.959\n"
     ]
    }
   ],
   "source": [
    "def cronbach_alpha(df):\n",
    "    soru_sayisi=df.shape[1]\n",
    "    her_sorunun_varyansi=df.var(axis=0,ddof=1)\n",
    "    her_kisinin_varyansi=df.sum(axis=1).var(ddof=1)\n",
    "    return (soru_sayisi / (soru_sayisi - 1)) * (1 - her_sorunun_varyansi.sum() / her_kisinin_varyansi)\n",
    "alfa=cronbach_alpha(df)\n",
    "print(round(alfa,3))"
   ]
  },
  {
   "cell_type": "code",
   "execution_count": 4,
   "id": "f026821b",
   "metadata": {},
   "outputs": [
    {
     "name": "stdout",
     "output_type": "stream",
     "text": [
      "6.666666666666667\n"
     ]
    }
   ],
   "source": [
    "her_sorunun_varyansi=df.var(axis=0,ddof=1)\n",
    "print(her_sorunun_varyansi.sum())"
   ]
  },
  {
   "cell_type": "code",
   "execution_count": 5,
   "id": "b35f451b",
   "metadata": {},
   "outputs": [
    {
     "name": "stdout",
     "output_type": "stream",
     "text": [
      "0.7670807453416149\n"
     ]
    }
   ],
   "source": [
    "her_kisinin_varyansi=df.sum(axis=1).var(ddof=1)\n",
    "print(1-her_sorunun_varyansi.sum()/her_kisinin_varyansi)"
   ]
  },
  {
   "cell_type": "code",
   "execution_count": 8,
   "id": "d0117270",
   "metadata": {},
   "outputs": [
    {
     "name": "stdout",
     "output_type": "stream",
     "text": [
      "0.959\n"
     ]
    }
   ],
   "source": [
    "print(round(0.7670807453416149*1.25,3)) #SONUCA GORE TEST ANKET SONUCLARIMIZ ANLAMLI"
   ]
  }
 ],
 "metadata": {
  "kernelspec": {
   "display_name": "3.10.12",
   "language": "python",
   "name": "python3"
  },
  "language_info": {
   "codemirror_mode": {
    "name": "ipython",
    "version": 3
   },
   "file_extension": ".py",
   "mimetype": "text/x-python",
   "name": "python",
   "nbconvert_exporter": "python",
   "pygments_lexer": "ipython3",
   "version": "3.10.12"
  }
 },
 "nbformat": 4,
 "nbformat_minor": 5
}
